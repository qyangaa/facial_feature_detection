{
 "cells": [
  {
   "cell_type": "code",
   "execution_count": 3,
   "metadata": {},
   "outputs": [],
   "source": [
    "conv1size=93\n",
    "conv1num=32\n",
    "conv2size=44\n",
    "conv2num=64\n",
    "conv3size=21\n",
    "conv3num=128\n",
    "conv4size=10\n",
    "conv4num=256\n",
    "fc1size=1000\n",
    "fc1dropp=0.4\n",
    "fc2size=136\n",
    "#calculate output size after conv1 and pool1\n",
    "OutputSizeConv1=((224-conv1size)/1+1)//2\n",
    "#calculate output size after conv2 and pool1\n",
    "OutputSizeConv2=((OutputSizeConv1-conv2size)/1+1)//2\n",
    "#calculate output size after conv3 and pool1\n",
    "OutputSizeConv3=((OutputSizeConv2-conv3size)/1+1)//2\n",
    "#calculate output size after conv4 and pool1\n",
    "OutputSizeConv4=int(((OutputSizeConv3-conv4size)/1+1)//2)"
   ]
  },
  {
   "cell_type": "code",
   "execution_count": 4,
   "metadata": {},
   "outputs": [
    {
     "name": "stdout",
     "output_type": "stream",
     "text": [
      "66.0 11.0 -5.0 -7\n"
     ]
    }
   ],
   "source": [
    "print(OutputSizeConv1,OutputSizeConv2,OutputSizeConv3,OutputSizeConv4)"
   ]
  },
  {
   "cell_type": "code",
   "execution_count": null,
   "metadata": {},
   "outputs": [],
   "source": []
  }
 ],
 "metadata": {
  "kernelspec": {
   "display_name": "Python 3",
   "language": "python",
   "name": "python3"
  },
  "language_info": {
   "codemirror_mode": {
    "name": "ipython",
    "version": 3
   },
   "file_extension": ".py",
   "mimetype": "text/x-python",
   "name": "python",
   "nbconvert_exporter": "python",
   "pygments_lexer": "ipython3",
   "version": "3.7.2"
  }
 },
 "nbformat": 4,
 "nbformat_minor": 2
}
